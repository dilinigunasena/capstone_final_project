{
 "cells": [
  {
   "cell_type": "markdown",
   "metadata": {},
   "source": [
    "# Model Based Collaborative Filtering Model for Recommendation"
   ]
  },
  {
   "cell_type": "markdown",
   "metadata": {},
   "source": [
    "## Download Data to Directory"
   ]
  },
  {
   "cell_type": "code",
   "execution_count": 1,
   "metadata": {},
   "outputs": [
    {
     "name": "stdout",
     "output_type": "stream",
     "text": [
      "mkdir: cannot create directory ‘../data’: File exists\n",
      "--2021-01-27 01:55:27--  http://-/\n",
      "Resolving - (-)... failed: Name or service not known.\n",
      "wget: unable to resolve host address ‘-’\n",
      "--2021-01-27 01:55:27--  https://raw-data.s3.ap-south-1.amazonaws.com/home_and_kitchen.csv\n",
      "Resolving raw-data.s3.ap-south-1.amazonaws.com (raw-data.s3.ap-south-1.amazonaws.com)... 52.219.66.111\n",
      "Connecting to raw-data.s3.ap-south-1.amazonaws.com (raw-data.s3.ap-south-1.amazonaws.com)|52.219.66.111|:443... connected.\n",
      "HTTP request sent, awaiting response... 200 OK\n",
      "Length: 915245469 (873M) [text/csv]\n",
      "Saving to: ‘../data/home_and_kitchen.csv’\n",
      "\n",
      "../data/home_and_ki 100%[===================>] 872.85M  15.2MB/s    in 59s     \n",
      "\n",
      "2021-01-27 01:56:26 (14.9 MB/s) - ‘../data/home_and_kitchen.csv’ saved [915245469/915245469]\n",
      "\n",
      "FINISHED --2021-01-27 01:56:26--\n",
      "Total wall clock time: 1m 0s\n",
      "Downloaded: 1 files, 873M in 59s (14.9 MB/s)\n"
     ]
    }
   ],
   "source": [
    "%mkdir ../data\n",
    "!wget -O ../data/home_and_kitchen.csv - https://raw-data.s3.ap-south-1.amazonaws.com/home_and_kitchen.csv  "
   ]
  },
  {
   "cell_type": "markdown",
   "metadata": {},
   "source": [
    "## Defining Directories and File Paths"
   ]
  },
  {
   "cell_type": "code",
   "execution_count": 2,
   "metadata": {},
   "outputs": [],
   "source": [
    "data_dir = '../data'\n",
    "raw_data_file = '../data/home_and_kitchen.csv'\n",
    "processed_data_file = '../data/home_and_kitchen_processed.csv'"
   ]
  },
  {
   "cell_type": "markdown",
   "metadata": {},
   "source": [
    "## Importing Necessary Libraries For Data Processing"
   ]
  },
  {
   "cell_type": "code",
   "execution_count": 3,
   "metadata": {},
   "outputs": [],
   "source": [
    "import pandas as pd\n",
    "import seaborn as sns\n",
    "import numpy as np\n",
    "import matplotlib.pyplot as plt\n",
    "%matplotlib inline"
   ]
  },
  {
   "cell_type": "code",
   "execution_count": 8,
   "metadata": {},
   "outputs": [
    {
     "data": {
      "text/html": [
       "<div>\n",
       "<style scoped>\n",
       "    .dataframe tbody tr th:only-of-type {\n",
       "        vertical-align: middle;\n",
       "    }\n",
       "\n",
       "    .dataframe tbody tr th {\n",
       "        vertical-align: top;\n",
       "    }\n",
       "\n",
       "    .dataframe thead th {\n",
       "        text-align: right;\n",
       "    }\n",
       "</style>\n",
       "<table border=\"1\" class=\"dataframe\">\n",
       "  <thead>\n",
       "    <tr style=\"text-align: right;\">\n",
       "      <th></th>\n",
       "      <th>productId</th>\n",
       "      <th>reviewerId</th>\n",
       "      <th>rating</th>\n",
       "      <th>timestamp</th>\n",
       "    </tr>\n",
       "  </thead>\n",
       "  <tbody>\n",
       "    <tr>\n",
       "      <th>0</th>\n",
       "      <td>0006564224</td>\n",
       "      <td>A3NSN9WOX8470M</td>\n",
       "      <td>5.0</td>\n",
       "      <td>1283212800</td>\n",
       "    </tr>\n",
       "    <tr>\n",
       "      <th>1</th>\n",
       "      <td>0006564224</td>\n",
       "      <td>A2AMX0AJ2BUDNV</td>\n",
       "      <td>5.0</td>\n",
       "      <td>1270166400</td>\n",
       "    </tr>\n",
       "    <tr>\n",
       "      <th>2</th>\n",
       "      <td>0560467893</td>\n",
       "      <td>A8LUWTIPU9CZB</td>\n",
       "      <td>5.0</td>\n",
       "      <td>1446681600</td>\n",
       "    </tr>\n",
       "    <tr>\n",
       "      <th>3</th>\n",
       "      <td>0560467893</td>\n",
       "      <td>AABKIIHAL0L66</td>\n",
       "      <td>4.0</td>\n",
       "      <td>1446076800</td>\n",
       "    </tr>\n",
       "    <tr>\n",
       "      <th>4</th>\n",
       "      <td>0560467893</td>\n",
       "      <td>A3DA0KIQ5OBK5C</td>\n",
       "      <td>3.0</td>\n",
       "      <td>1441756800</td>\n",
       "    </tr>\n",
       "    <tr>\n",
       "      <th>...</th>\n",
       "      <td>...</td>\n",
       "      <td>...</td>\n",
       "      <td>...</td>\n",
       "      <td>...</td>\n",
       "    </tr>\n",
       "    <tr>\n",
       "      <th>21928563</th>\n",
       "      <td>B01HJH7K3Q</td>\n",
       "      <td>A33Z5MOHLFIECI</td>\n",
       "      <td>3.0</td>\n",
       "      <td>1513814400</td>\n",
       "    </tr>\n",
       "    <tr>\n",
       "      <th>21928564</th>\n",
       "      <td>B01HJH7K3Q</td>\n",
       "      <td>A1BP93Y9L2HUL7</td>\n",
       "      <td>5.0</td>\n",
       "      <td>1493164800</td>\n",
       "    </tr>\n",
       "    <tr>\n",
       "      <th>21928565</th>\n",
       "      <td>B01HJH7K3Q</td>\n",
       "      <td>A3EYW1FBJ48SH1</td>\n",
       "      <td>5.0</td>\n",
       "      <td>1483401600</td>\n",
       "    </tr>\n",
       "    <tr>\n",
       "      <th>21928566</th>\n",
       "      <td>B01HJHTC6O</td>\n",
       "      <td>AYOGJY5CDIY49</td>\n",
       "      <td>5.0</td>\n",
       "      <td>1533254400</td>\n",
       "    </tr>\n",
       "    <tr>\n",
       "      <th>21928567</th>\n",
       "      <td>B01HJHTC6O</td>\n",
       "      <td>ADNZ2NWXVKB1L</td>\n",
       "      <td>5.0</td>\n",
       "      <td>1438560000</td>\n",
       "    </tr>\n",
       "  </tbody>\n",
       "</table>\n",
       "<p>21928568 rows × 4 columns</p>\n",
       "</div>"
      ],
      "text/plain": [
       "           productId      reviewerId  rating   timestamp\n",
       "0         0006564224  A3NSN9WOX8470M     5.0  1283212800\n",
       "1         0006564224  A2AMX0AJ2BUDNV     5.0  1270166400\n",
       "2         0560467893   A8LUWTIPU9CZB     5.0  1446681600\n",
       "3         0560467893   AABKIIHAL0L66     4.0  1446076800\n",
       "4         0560467893  A3DA0KIQ5OBK5C     3.0  1441756800\n",
       "...              ...             ...     ...         ...\n",
       "21928563  B01HJH7K3Q  A33Z5MOHLFIECI     3.0  1513814400\n",
       "21928564  B01HJH7K3Q  A1BP93Y9L2HUL7     5.0  1493164800\n",
       "21928565  B01HJH7K3Q  A3EYW1FBJ48SH1     5.0  1483401600\n",
       "21928566  B01HJHTC6O   AYOGJY5CDIY49     5.0  1533254400\n",
       "21928567  B01HJHTC6O   ADNZ2NWXVKB1L     5.0  1438560000\n",
       "\n",
       "[21928568 rows x 4 columns]"
      ]
     },
     "execution_count": 8,
     "metadata": {},
     "output_type": "execute_result"
    }
   ],
   "source": [
    "# read the data with coloumns by giving columns to the data frame\n",
    "# data frame = home_kitchen_data \n",
    "home_kitchen_data = None\n",
    "columns=['productId', 'reviewerId', 'rating','timestamp']\n",
    "home_kitchen_data = pd.read_csv(raw_data_file,names=columns)\n",
    "home_kitchen_data"
   ]
  },
  {
   "cell_type": "markdown",
   "metadata": {},
   "source": [
    "## Data Pre-processing"
   ]
  },
  {
   "cell_type": "code",
   "execution_count": 9,
   "metadata": {},
   "outputs": [],
   "source": [
    "# Data Preprocessing \n",
    "# As the timestamp is not necessary for our model we can remove the time stamp column from data frame\n",
    "home_kitchen_data.drop('timestamp',axis=1,inplace=True)\n",
    "home_kitchen_data.head()\n",
    "# write this processed file in to a seperate csv file for future use\n",
    "home_kitchen_data.to_csv(processed_data_file,index = False)"
   ]
  },
  {
   "cell_type": "code",
   "execution_count": null,
   "metadata": {},
   "outputs": [],
   "source": [
    "# read the processed data file after removing unnecessary columns \n",
    "# data frame = home_kitchen_data \n",
    "home_kitchen_data = None\n",
    "home_kitchen_data = pd.read_csv(processed_data_file)\n",
    "home_kitchen_data"
   ]
  },
  {
   "cell_type": "markdown",
   "metadata": {},
   "source": [
    "## Installing Surprise - A Python scikit for recommender systems"
   ]
  },
  {
   "cell_type": "code",
   "execution_count": 6,
   "metadata": {},
   "outputs": [
    {
     "name": "stdout",
     "output_type": "stream",
     "text": [
      "Requirement already satisfied: numpy in /home/ec2-user/anaconda3/envs/python3/lib/python3.6/site-packages (1.19.4)\r\n"
     ]
    }
   ],
   "source": [
    "!pip install numpy"
   ]
  },
  {
   "cell_type": "code",
   "execution_count": null,
   "metadata": {},
   "outputs": [],
   "source": [
    "!/home/ec2-user/anaconda3/envs/python3/bin/python -m pip install --upgrade pip"
   ]
  },
  {
   "cell_type": "code",
   "execution_count": null,
   "metadata": {},
   "outputs": [],
   "source": [
    "!pip --version"
   ]
  },
  {
   "cell_type": "code",
   "execution_count": null,
   "metadata": {},
   "outputs": [],
   "source": [
    "# installing scikit-surprise library for recommendation system\n",
    "!pip install scikit-surprise"
   ]
  },
  {
   "cell_type": "code",
   "execution_count": null,
   "metadata": {},
   "outputs": [],
   "source": [
    "# import necessary libraries from scikit-suprise\n",
    "from surprise import Dataset\n",
    "from surprise import Reader\n",
    "from surprise import SVD\n",
    "from surprise.model_selection import cross_validate\n",
    "from surprise.model_selection import train_test_split"
   ]
  },
  {
   "cell_type": "markdown",
   "metadata": {},
   "source": [
    "## Define Rating Scale"
   ]
  },
  {
   "cell_type": "code",
   "execution_count": null,
   "metadata": {},
   "outputs": [],
   "source": [
    "#Configure rating scale for reader\n",
    "reader = Reader(rating_scale=(1, 5))"
   ]
  },
  {
   "cell_type": "code",
   "execution_count": null,
   "metadata": {},
   "outputs": [],
   "source": [
    "# due to the memory limitation need to reduce the main data set in to a subset of 50 000\n",
    "home_kitchen_data = home_kitchen_data.loc[0:10000]\n",
    "home_kitchen_data"
   ]
  },
  {
   "cell_type": "code",
   "execution_count": null,
   "metadata": {},
   "outputs": [],
   "source": [
    "#Load Dataset with scikit-suprise\n",
    "data = Dataset.load_from_df(home_kitchen_data[['reviewerId', 'productId', 'rating']], reader)\n",
    "data"
   ]
  }
 ],
 "metadata": {
  "kernelspec": {
   "display_name": "conda_python3",
   "language": "python",
   "name": "conda_python3"
  },
  "language_info": {
   "codemirror_mode": {
    "name": "ipython",
    "version": 3
   },
   "file_extension": ".py",
   "mimetype": "text/x-python",
   "name": "python",
   "nbconvert_exporter": "python",
   "pygments_lexer": "ipython3",
   "version": "3.6.10"
  }
 },
 "nbformat": 4,
 "nbformat_minor": 4
}
